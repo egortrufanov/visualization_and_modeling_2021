{
 "metadata": {
  "language_info": {
   "codemirror_mode": {
    "name": "ipython",
    "version": 3
   },
   "file_extension": ".py",
   "mimetype": "text/x-python",
   "name": "python",
   "nbconvert_exporter": "python",
   "pygments_lexer": "ipython3",
   "version": "3.7.4-final"
  },
  "orig_nbformat": 2,
  "kernelspec": {
   "name": "python374jvsc74a57bd0382e1f1f8d821c918f57a58c7758d52efb602adcdf5f527f216ec8017f734ba0",
   "display_name": "Python 3.7.4 64-bit"
  },
  "metadata": {
   "interpreter": {
    "hash": "382e1f1f8d821c918f57a58c7758d52efb602adcdf5f527f216ec8017f734ba0"
   }
  }
 },
 "nbformat": 4,
 "nbformat_minor": 2,
 "cells": [
  {
   "source": [
    "# Предобработка датасета"
   ],
   "cell_type": "markdown",
   "metadata": {}
  },
  {
   "cell_type": "code",
   "execution_count": 1,
   "metadata": {},
   "outputs": [],
   "source": [
    "import pandas as pd\n",
    "import matplotlib.pyplot as plt"
   ]
  },
  {
   "cell_type": "code",
   "execution_count": 2,
   "metadata": {},
   "outputs": [
    {
     "output_type": "execute_result",
     "data": {
      "text/plain": [
       "   bookID                                              title  \\\n",
       "0       1  Harry Potter and the Half-Blood Prince (Harry ...   \n",
       "1       2  Harry Potter and the Order of the Phoenix (Har...   \n",
       "2       4  Harry Potter and the Chamber of Secrets (Harry...   \n",
       "3       5  Harry Potter and the Prisoner of Azkaban (Harr...   \n",
       "4       8  Harry Potter Boxed Set  Books 1-5 (Harry Potte...   \n",
       "\n",
       "                      authors  average_rating        isbn         isbn13  \\\n",
       "0  J.K. Rowling/Mary GrandPré            4.57  0439785960  9780439785969   \n",
       "1  J.K. Rowling/Mary GrandPré            4.49  0439358078  9780439358071   \n",
       "2                J.K. Rowling            4.42  0439554896  9780439554893   \n",
       "3  J.K. Rowling/Mary GrandPré            4.56  043965548X  9780439655484   \n",
       "4  J.K. Rowling/Mary GrandPré            4.78  0439682584  9780439682589   \n",
       "\n",
       "  language_code  num_pages  ratings_count  text_reviews_count  \\\n",
       "0           eng        652        2095690               27591   \n",
       "1           eng        870        2153167               29221   \n",
       "2           eng        352           6333                 244   \n",
       "3           eng        435        2339585               36325   \n",
       "4           eng       2690          41428                 164   \n",
       "\n",
       "  publication_date        publisher;;;  \n",
       "0        9/16/2006  Scholastic Inc.;;;  \n",
       "1         9/1/2004  Scholastic Inc.;;;  \n",
       "2        11/1/2003       Scholastic;;;  \n",
       "3         5/1/2004  Scholastic Inc.;;;  \n",
       "4        9/13/2004       Scholastic;;;  "
      ],
      "text/html": "<div>\n<style scoped>\n    .dataframe tbody tr th:only-of-type {\n        vertical-align: middle;\n    }\n\n    .dataframe tbody tr th {\n        vertical-align: top;\n    }\n\n    .dataframe thead th {\n        text-align: right;\n    }\n</style>\n<table border=\"1\" class=\"dataframe\">\n  <thead>\n    <tr style=\"text-align: right;\">\n      <th></th>\n      <th>bookID</th>\n      <th>title</th>\n      <th>authors</th>\n      <th>average_rating</th>\n      <th>isbn</th>\n      <th>isbn13</th>\n      <th>language_code</th>\n      <th>num_pages</th>\n      <th>ratings_count</th>\n      <th>text_reviews_count</th>\n      <th>publication_date</th>\n      <th>publisher;;;</th>\n    </tr>\n  </thead>\n  <tbody>\n    <tr>\n      <th>0</th>\n      <td>1</td>\n      <td>Harry Potter and the Half-Blood Prince (Harry ...</td>\n      <td>J.K. Rowling/Mary GrandPré</td>\n      <td>4.57</td>\n      <td>0439785960</td>\n      <td>9780439785969</td>\n      <td>eng</td>\n      <td>652</td>\n      <td>2095690</td>\n      <td>27591</td>\n      <td>9/16/2006</td>\n      <td>Scholastic Inc.;;;</td>\n    </tr>\n    <tr>\n      <th>1</th>\n      <td>2</td>\n      <td>Harry Potter and the Order of the Phoenix (Har...</td>\n      <td>J.K. Rowling/Mary GrandPré</td>\n      <td>4.49</td>\n      <td>0439358078</td>\n      <td>9780439358071</td>\n      <td>eng</td>\n      <td>870</td>\n      <td>2153167</td>\n      <td>29221</td>\n      <td>9/1/2004</td>\n      <td>Scholastic Inc.;;;</td>\n    </tr>\n    <tr>\n      <th>2</th>\n      <td>4</td>\n      <td>Harry Potter and the Chamber of Secrets (Harry...</td>\n      <td>J.K. Rowling</td>\n      <td>4.42</td>\n      <td>0439554896</td>\n      <td>9780439554893</td>\n      <td>eng</td>\n      <td>352</td>\n      <td>6333</td>\n      <td>244</td>\n      <td>11/1/2003</td>\n      <td>Scholastic;;;</td>\n    </tr>\n    <tr>\n      <th>3</th>\n      <td>5</td>\n      <td>Harry Potter and the Prisoner of Azkaban (Harr...</td>\n      <td>J.K. Rowling/Mary GrandPré</td>\n      <td>4.56</td>\n      <td>043965548X</td>\n      <td>9780439655484</td>\n      <td>eng</td>\n      <td>435</td>\n      <td>2339585</td>\n      <td>36325</td>\n      <td>5/1/2004</td>\n      <td>Scholastic Inc.;;;</td>\n    </tr>\n    <tr>\n      <th>4</th>\n      <td>8</td>\n      <td>Harry Potter Boxed Set  Books 1-5 (Harry Potte...</td>\n      <td>J.K. Rowling/Mary GrandPré</td>\n      <td>4.78</td>\n      <td>0439682584</td>\n      <td>9780439682589</td>\n      <td>eng</td>\n      <td>2690</td>\n      <td>41428</td>\n      <td>164</td>\n      <td>9/13/2004</td>\n      <td>Scholastic;;;</td>\n    </tr>\n  </tbody>\n</table>\n</div>"
     },
     "metadata": {},
     "execution_count": 2
    }
   ],
   "source": [
    "df = pd.read_csv(\"books.csv\")\n",
    "df.head()"
   ]
  },
  {
   "source": [
    "Для начала уберем ненужные столбцы, из которых никак не использовать информацию."
   ],
   "cell_type": "markdown",
   "metadata": {}
  },
  {
   "cell_type": "code",
   "execution_count": 3,
   "metadata": {},
   "outputs": [
    {
     "output_type": "execute_result",
     "data": {
      "text/plain": [
       "                                               title  \\\n",
       "0  Harry Potter and the Half-Blood Prince (Harry ...   \n",
       "1  Harry Potter and the Order of the Phoenix (Har...   \n",
       "2  Harry Potter and the Chamber of Secrets (Harry...   \n",
       "3  Harry Potter and the Prisoner of Azkaban (Harr...   \n",
       "4  Harry Potter Boxed Set  Books 1-5 (Harry Potte...   \n",
       "\n",
       "                      authors  average_rating language_code  num_pages  \\\n",
       "0  J.K. Rowling/Mary GrandPré            4.57           eng        652   \n",
       "1  J.K. Rowling/Mary GrandPré            4.49           eng        870   \n",
       "2                J.K. Rowling            4.42           eng        352   \n",
       "3  J.K. Rowling/Mary GrandPré            4.56           eng        435   \n",
       "4  J.K. Rowling/Mary GrandPré            4.78           eng       2690   \n",
       "\n",
       "   ratings_count  text_reviews_count publication_date        publisher;;;  \n",
       "0        2095690               27591        9/16/2006  Scholastic Inc.;;;  \n",
       "1        2153167               29221         9/1/2004  Scholastic Inc.;;;  \n",
       "2           6333                 244        11/1/2003       Scholastic;;;  \n",
       "3        2339585               36325         5/1/2004  Scholastic Inc.;;;  \n",
       "4          41428                 164        9/13/2004       Scholastic;;;  "
      ],
      "text/html": "<div>\n<style scoped>\n    .dataframe tbody tr th:only-of-type {\n        vertical-align: middle;\n    }\n\n    .dataframe tbody tr th {\n        vertical-align: top;\n    }\n\n    .dataframe thead th {\n        text-align: right;\n    }\n</style>\n<table border=\"1\" class=\"dataframe\">\n  <thead>\n    <tr style=\"text-align: right;\">\n      <th></th>\n      <th>title</th>\n      <th>authors</th>\n      <th>average_rating</th>\n      <th>language_code</th>\n      <th>num_pages</th>\n      <th>ratings_count</th>\n      <th>text_reviews_count</th>\n      <th>publication_date</th>\n      <th>publisher;;;</th>\n    </tr>\n  </thead>\n  <tbody>\n    <tr>\n      <th>0</th>\n      <td>Harry Potter and the Half-Blood Prince (Harry ...</td>\n      <td>J.K. Rowling/Mary GrandPré</td>\n      <td>4.57</td>\n      <td>eng</td>\n      <td>652</td>\n      <td>2095690</td>\n      <td>27591</td>\n      <td>9/16/2006</td>\n      <td>Scholastic Inc.;;;</td>\n    </tr>\n    <tr>\n      <th>1</th>\n      <td>Harry Potter and the Order of the Phoenix (Har...</td>\n      <td>J.K. Rowling/Mary GrandPré</td>\n      <td>4.49</td>\n      <td>eng</td>\n      <td>870</td>\n      <td>2153167</td>\n      <td>29221</td>\n      <td>9/1/2004</td>\n      <td>Scholastic Inc.;;;</td>\n    </tr>\n    <tr>\n      <th>2</th>\n      <td>Harry Potter and the Chamber of Secrets (Harry...</td>\n      <td>J.K. Rowling</td>\n      <td>4.42</td>\n      <td>eng</td>\n      <td>352</td>\n      <td>6333</td>\n      <td>244</td>\n      <td>11/1/2003</td>\n      <td>Scholastic;;;</td>\n    </tr>\n    <tr>\n      <th>3</th>\n      <td>Harry Potter and the Prisoner of Azkaban (Harr...</td>\n      <td>J.K. Rowling/Mary GrandPré</td>\n      <td>4.56</td>\n      <td>eng</td>\n      <td>435</td>\n      <td>2339585</td>\n      <td>36325</td>\n      <td>5/1/2004</td>\n      <td>Scholastic Inc.;;;</td>\n    </tr>\n    <tr>\n      <th>4</th>\n      <td>Harry Potter Boxed Set  Books 1-5 (Harry Potte...</td>\n      <td>J.K. Rowling/Mary GrandPré</td>\n      <td>4.78</td>\n      <td>eng</td>\n      <td>2690</td>\n      <td>41428</td>\n      <td>164</td>\n      <td>9/13/2004</td>\n      <td>Scholastic;;;</td>\n    </tr>\n  </tbody>\n</table>\n</div>"
     },
     "metadata": {},
     "execution_count": 3
    }
   ],
   "source": [
    "df = df.drop(columns=[\"bookID\", \"isbn\", \"isbn13\"])\n",
    "df.head()"
   ]
  },
  {
   "source": [
    "Посмотрим, нет ли каких-нибудь выбросов в столбцах с рейтингом, количеством страниц, количеством оценок и писмьенных отзывов."
   ],
   "cell_type": "markdown",
   "metadata": {}
  },
  {
   "cell_type": "code",
   "execution_count": 4,
   "metadata": {},
   "outputs": [
    {
     "output_type": "stream",
     "name": "stdout",
     "text": [
      "min ratinng: 0.0\nmax ratinng: 5.0\nmin pages: 0\nmax pages: 6576\nmin ratings count: 0\nmax ratings count: 4597666\nmin text reviews count: 0\nmax text reviews count: 94265\n"
     ]
    }
   ],
   "source": [
    "print(\"min ratinng:\", df[\"average_rating\"].min())\n",
    "print(\"max ratinng:\", df[\"average_rating\"].max())\n",
    "print(\"min pages:\", df[\"num_pages\"].min())\n",
    "print(\"max pages:\", df[\"num_pages\"].max())\n",
    "print(\"min ratings count:\", df[\"ratings_count\"].min())\n",
    "print(\"max ratings count:\", df[\"ratings_count\"].max())\n",
    "print(\"min text reviews count:\", df[\"text_reviews_count\"].min())\n",
    "print(\"max text reviews count:\", df[\"text_reviews_count\"].max())\n"
   ]
  },
  {
   "source": [
    "### Видим, что никаких выбросов в столбце с рейтингом не наблюдается. Однако в других столбцах есть некоторые недочеты. \n",
    "### Например, в книге не может быть 0 страниц, поэтому стоит удалить данные позиции, так как точно не известно, сколько в них должно быть страниц, и чтобы они не мешались при проверке гипотез.\n",
    "### Затем, столбец с общим количеством оценок напрямую влияет на столбец с рейтингом книги, так как рейтинг не может появиться у книги, если у нее нет ни одной оценки. Поэтому следует удалить позиции, у которых количество оценок равно нулю."
   ],
   "cell_type": "markdown",
   "metadata": {}
  },
  {
   "cell_type": "code",
   "execution_count": 5,
   "metadata": {},
   "outputs": [
    {
     "output_type": "execute_result",
     "data": {
      "text/plain": [
       "                                                   title  \\\n",
       "0      Harry Potter and the Half-Blood Prince (Harry ...   \n",
       "1      Harry Potter and the Order of the Phoenix (Har...   \n",
       "2      Harry Potter and the Chamber of Secrets (Harry...   \n",
       "3      Harry Potter and the Prisoner of Azkaban (Harr...   \n",
       "4      Harry Potter Boxed Set  Books 1-5 (Harry Potte...   \n",
       "...                                                  ...   \n",
       "11122   Expelled from Eden: A William T. Vollmann Reader   \n",
       "11123                        You Bright and Risen Angels   \n",
       "11124                    The Ice-Shirt (Seven Dreams #1)   \n",
       "11125                                        Poor People   \n",
       "11126                        Las aventuras de Tom Sawyer   \n",
       "\n",
       "                                                 authors  average_rating  \\\n",
       "0                             J.K. Rowling/Mary GrandPré            4.57   \n",
       "1                             J.K. Rowling/Mary GrandPré            4.49   \n",
       "2                                           J.K. Rowling            4.42   \n",
       "3                             J.K. Rowling/Mary GrandPré            4.56   \n",
       "4                             J.K. Rowling/Mary GrandPré            4.78   \n",
       "...                                                  ...             ...   \n",
       "11122  William T. Vollmann/Larry McCaffery/Michael He...            4.06   \n",
       "11123                                William T. Vollmann            4.08   \n",
       "11124                                William T. Vollmann            3.96   \n",
       "11125                                William T. Vollmann            3.72   \n",
       "11126                                         Mark Twain            3.91   \n",
       "\n",
       "      language_code  num_pages  ratings_count  text_reviews_count  \\\n",
       "0               eng        652        2095690               27591   \n",
       "1               eng        870        2153167               29221   \n",
       "2               eng        352           6333                 244   \n",
       "3               eng        435        2339585               36325   \n",
       "4               eng       2690          41428                 164   \n",
       "...             ...        ...            ...                 ...   \n",
       "11122           eng        512            156                  20   \n",
       "11123           eng        635            783                  56   \n",
       "11124           eng        415            820                  95   \n",
       "11125           eng        434            769                 139   \n",
       "11126           spa        272            113                  12   \n",
       "\n",
       "      publication_date        publisher;;;  \n",
       "0            9/16/2006  Scholastic Inc.;;;  \n",
       "1             9/1/2004  Scholastic Inc.;;;  \n",
       "2            11/1/2003       Scholastic;;;  \n",
       "3             5/1/2004  Scholastic Inc.;;;  \n",
       "4            9/13/2004       Scholastic;;;  \n",
       "...                ...                 ...  \n",
       "11122       12/21/2004    Da Capo Press;;;  \n",
       "11123        12/1/1988    Penguin Books;;;  \n",
       "11124         8/1/1993    Penguin Books;;;  \n",
       "11125        2/27/2007             Ecco;;;  \n",
       "11126        5/28/2006    Edimat Libros;;;  \n",
       "\n",
       "[10971 rows x 9 columns]"
      ],
      "text/html": "<div>\n<style scoped>\n    .dataframe tbody tr th:only-of-type {\n        vertical-align: middle;\n    }\n\n    .dataframe tbody tr th {\n        vertical-align: top;\n    }\n\n    .dataframe thead th {\n        text-align: right;\n    }\n</style>\n<table border=\"1\" class=\"dataframe\">\n  <thead>\n    <tr style=\"text-align: right;\">\n      <th></th>\n      <th>title</th>\n      <th>authors</th>\n      <th>average_rating</th>\n      <th>language_code</th>\n      <th>num_pages</th>\n      <th>ratings_count</th>\n      <th>text_reviews_count</th>\n      <th>publication_date</th>\n      <th>publisher;;;</th>\n    </tr>\n  </thead>\n  <tbody>\n    <tr>\n      <th>0</th>\n      <td>Harry Potter and the Half-Blood Prince (Harry ...</td>\n      <td>J.K. Rowling/Mary GrandPré</td>\n      <td>4.57</td>\n      <td>eng</td>\n      <td>652</td>\n      <td>2095690</td>\n      <td>27591</td>\n      <td>9/16/2006</td>\n      <td>Scholastic Inc.;;;</td>\n    </tr>\n    <tr>\n      <th>1</th>\n      <td>Harry Potter and the Order of the Phoenix (Har...</td>\n      <td>J.K. Rowling/Mary GrandPré</td>\n      <td>4.49</td>\n      <td>eng</td>\n      <td>870</td>\n      <td>2153167</td>\n      <td>29221</td>\n      <td>9/1/2004</td>\n      <td>Scholastic Inc.;;;</td>\n    </tr>\n    <tr>\n      <th>2</th>\n      <td>Harry Potter and the Chamber of Secrets (Harry...</td>\n      <td>J.K. Rowling</td>\n      <td>4.42</td>\n      <td>eng</td>\n      <td>352</td>\n      <td>6333</td>\n      <td>244</td>\n      <td>11/1/2003</td>\n      <td>Scholastic;;;</td>\n    </tr>\n    <tr>\n      <th>3</th>\n      <td>Harry Potter and the Prisoner of Azkaban (Harr...</td>\n      <td>J.K. Rowling/Mary GrandPré</td>\n      <td>4.56</td>\n      <td>eng</td>\n      <td>435</td>\n      <td>2339585</td>\n      <td>36325</td>\n      <td>5/1/2004</td>\n      <td>Scholastic Inc.;;;</td>\n    </tr>\n    <tr>\n      <th>4</th>\n      <td>Harry Potter Boxed Set  Books 1-5 (Harry Potte...</td>\n      <td>J.K. Rowling/Mary GrandPré</td>\n      <td>4.78</td>\n      <td>eng</td>\n      <td>2690</td>\n      <td>41428</td>\n      <td>164</td>\n      <td>9/13/2004</td>\n      <td>Scholastic;;;</td>\n    </tr>\n    <tr>\n      <th>...</th>\n      <td>...</td>\n      <td>...</td>\n      <td>...</td>\n      <td>...</td>\n      <td>...</td>\n      <td>...</td>\n      <td>...</td>\n      <td>...</td>\n      <td>...</td>\n    </tr>\n    <tr>\n      <th>11122</th>\n      <td>Expelled from Eden: A William T. Vollmann Reader</td>\n      <td>William T. Vollmann/Larry McCaffery/Michael He...</td>\n      <td>4.06</td>\n      <td>eng</td>\n      <td>512</td>\n      <td>156</td>\n      <td>20</td>\n      <td>12/21/2004</td>\n      <td>Da Capo Press;;;</td>\n    </tr>\n    <tr>\n      <th>11123</th>\n      <td>You Bright and Risen Angels</td>\n      <td>William T. Vollmann</td>\n      <td>4.08</td>\n      <td>eng</td>\n      <td>635</td>\n      <td>783</td>\n      <td>56</td>\n      <td>12/1/1988</td>\n      <td>Penguin Books;;;</td>\n    </tr>\n    <tr>\n      <th>11124</th>\n      <td>The Ice-Shirt (Seven Dreams #1)</td>\n      <td>William T. Vollmann</td>\n      <td>3.96</td>\n      <td>eng</td>\n      <td>415</td>\n      <td>820</td>\n      <td>95</td>\n      <td>8/1/1993</td>\n      <td>Penguin Books;;;</td>\n    </tr>\n    <tr>\n      <th>11125</th>\n      <td>Poor People</td>\n      <td>William T. Vollmann</td>\n      <td>3.72</td>\n      <td>eng</td>\n      <td>434</td>\n      <td>769</td>\n      <td>139</td>\n      <td>2/27/2007</td>\n      <td>Ecco;;;</td>\n    </tr>\n    <tr>\n      <th>11126</th>\n      <td>Las aventuras de Tom Sawyer</td>\n      <td>Mark Twain</td>\n      <td>3.91</td>\n      <td>spa</td>\n      <td>272</td>\n      <td>113</td>\n      <td>12</td>\n      <td>5/28/2006</td>\n      <td>Edimat Libros;;;</td>\n    </tr>\n  </tbody>\n</table>\n<p>10971 rows × 9 columns</p>\n</div>"
     },
     "metadata": {},
     "execution_count": 5
    }
   ],
   "source": [
    "df = df.loc[df[\"num_pages\"] > 0]\n",
    "df = df.loc[df[\"ratings_count\"] > 0]\n",
    "df"
   ]
  },
  {
   "source": [
    "### Рассмотрим теперь, нет ли выбросов с языком, на котором была написана книга."
   ],
   "cell_type": "markdown",
   "metadata": {}
  },
  {
   "cell_type": "code",
   "execution_count": 6,
   "metadata": {},
   "outputs": [
    {
     "output_type": "execute_result",
     "data": {
      "text/plain": [
       "array(['eng', 'en-US', 'fre', 'spa', 'en-GB', 'mul', 'grc', 'enm',\n",
       "       'en-CA', 'ger', 'jpn', 'ara', 'nl', 'zho', 'lat', 'por', 'ita',\n",
       "       'rus', 'msa', 'glg', 'wel', 'swe', 'nor', 'tur', 'gla', 'ale'],\n",
       "      dtype=object)"
      ]
     },
     "metadata": {},
     "execution_count": 6
    }
   ],
   "source": [
    "df[\"language_code\"].unique()"
   ]
  },
  {
   "source": [
    "### Видим, что у английского есть разветвления в виде канадского, американского и британского английского. Это может помешать при проверке гипотез, поэтому стоит просто заменить эти виды английского на обычный английский."
   ],
   "cell_type": "markdown",
   "metadata": {}
  },
  {
   "cell_type": "code",
   "execution_count": 7,
   "metadata": {},
   "outputs": [
    {
     "output_type": "execute_result",
     "data": {
      "text/plain": [
       "array(['eng', 'fre', 'spa', 'mul', 'grc', 'enm', 'ger', 'jpn', 'ara',\n",
       "       'nl', 'zho', 'lat', 'por', 'ita', 'rus', 'msa', 'glg', 'wel',\n",
       "       'swe', 'nor', 'tur', 'gla', 'ale'], dtype=object)"
      ]
     },
     "metadata": {},
     "execution_count": 7
    }
   ],
   "source": [
    "df.loc[df['language_code']=='en-US', 'language_code'] = 'eng'\n",
    "df.loc[df['language_code']=='en-GB', 'language_code'] = 'eng'\n",
    "df.loc[df['language_code']=='en-CA', 'language_code'] = 'eng'\n",
    "df['language_code'].unique()"
   ]
  },
  {
   "source": [
    "### Также при проверке значений в столбце с авторами было замечено такое значение ячейки как \"NOT A BOOK\". Следует, удалить и строки с данными значениями в столбце с авторами."
   ],
   "cell_type": "markdown",
   "metadata": {}
  },
  {
   "cell_type": "code",
   "execution_count": 8,
   "metadata": {},
   "outputs": [],
   "source": [
    "df = df.loc[df[\"authors\"]!='NOT A BOOK']"
   ]
  },
  {
   "source": [
    "## Теперь можно считать, что датасет готов к проверке гипотез"
   ],
   "cell_type": "markdown",
   "metadata": {}
  }
 ]
}