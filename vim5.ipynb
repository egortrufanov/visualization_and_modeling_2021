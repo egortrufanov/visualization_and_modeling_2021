{
  "nbformat": 4,
  "nbformat_minor": 0,
  "metadata": {
    "colab": {
      "name": "Untitled1.ipynb",
      "provenance": [],
      "collapsed_sections": []
    },
    "kernelspec": {
      "name": "python3",
      "display_name": "Python 3.7.4 64-bit"
    },
    "language_info": {
      "name": "python",
      "version": "3.7.4"
    },
    "interpreter": {
      "hash": "382e1f1f8d821c918f57a58c7758d52efb602adcdf5f527f216ec8017f734ba0"
    }
  },
  "cells": [
    {
      "cell_type": "code",
      "metadata": {
        "id": "IGutzvG5zsts"
      },
      "source": [
        "import pandas as pd"
      ],
      "execution_count": 188,
      "outputs": []
    },
    {
      "cell_type": "code",
      "metadata": {
        "colab": {
          "base_uri": "https://localhost:8080/",
          "height": 159
        },
        "id": "r0hH-4iFz9vH",
        "outputId": "69e6e29d-430d-47d5-cd8d-f76d11c513b9"
      },
      "source": [
        "df = pd.read_csv('Disney.csv')\n",
        "df.sample(3)"
      ],
      "execution_count": 189,
      "outputs": [
        {
          "output_type": "execute_result",
          "data": {
            "text/plain": [
              "     Unnamed: 0                title  \\\n",
              "228         228         A Bug's Life   \n",
              "35           35                Perri   \n",
              "145         145  Herbie Goes Bananas   \n",
              "\n",
              "                                    Production company           Release date  \\\n",
              "228  ['Walt Disney Pictures', 'Pixar Animation Stud...  ['November 20, 1998']   \n",
              "35                             Walt Disney Productions        August 28, 1957   \n",
              "145                            Walt Disney Productions      ['June 27, 1980']   \n",
              "\n",
              "    Running time        Country Language  Running time (int)  Budget (float)  \\\n",
              "228   95 minutes  United States  English                95.0     120000000.0   \n",
              "35    75 minutes  United States  English                75.0             NaN   \n",
              "145   98 minutes  United States  English                98.0             NaN   \n",
              "\n",
              "     Box office (float)  ...                  Box office  \\\n",
              "228         363300000.0  ...              $363.3 million   \n",
              "35            1750000.0  ...  $1.75 million (US rentals)   \n",
              "145          18000000.0  ...                 $18 million   \n",
              "\n",
              "                                             Story by     Narrated by  \\\n",
              "228  ['John Lasseter', 'Andrew Stanton', 'Joe Ranft']             NaN   \n",
              "35                                                NaN  Winston Hibler   \n",
              "145                                               NaN             NaN   \n",
              "\n",
              "        Cinematography          Edited by  \\\n",
              "228     Sharon Calahan        Lee Unkrich   \n",
              "35                 NaN        Jack Atwood   \n",
              "145  Frank V. Phillips  Gordon D. Brenner   \n",
              "\n",
              "                                        Screenplay by Production companies  \\\n",
              "228  ['Andrew Stanton', 'Donald McEnery', 'Bob Shaw']                  NaN   \n",
              "35                                                NaN                  NaN   \n",
              "145                                               NaN                  NaN   \n",
              "\n",
              "    Adaptation by Traditional Simplified  \n",
              "228           NaN         NaN        NaN  \n",
              "35            NaN         NaN        NaN  \n",
              "145           NaN         NaN        NaN  \n",
              "\n",
              "[3 rows x 32 columns]"
            ],
            "text/html": "<div>\n<style scoped>\n    .dataframe tbody tr th:only-of-type {\n        vertical-align: middle;\n    }\n\n    .dataframe tbody tr th {\n        vertical-align: top;\n    }\n\n    .dataframe thead th {\n        text-align: right;\n    }\n</style>\n<table border=\"1\" class=\"dataframe\">\n  <thead>\n    <tr style=\"text-align: right;\">\n      <th></th>\n      <th>Unnamed: 0</th>\n      <th>title</th>\n      <th>Production company</th>\n      <th>Release date</th>\n      <th>Running time</th>\n      <th>Country</th>\n      <th>Language</th>\n      <th>Running time (int)</th>\n      <th>Budget (float)</th>\n      <th>Box office (float)</th>\n      <th>...</th>\n      <th>Box office</th>\n      <th>Story by</th>\n      <th>Narrated by</th>\n      <th>Cinematography</th>\n      <th>Edited by</th>\n      <th>Screenplay by</th>\n      <th>Production companies</th>\n      <th>Adaptation by</th>\n      <th>Traditional</th>\n      <th>Simplified</th>\n    </tr>\n  </thead>\n  <tbody>\n    <tr>\n      <th>228</th>\n      <td>228</td>\n      <td>A Bug's Life</td>\n      <td>['Walt Disney Pictures', 'Pixar Animation Stud...</td>\n      <td>['November 20, 1998']</td>\n      <td>95 minutes</td>\n      <td>United States</td>\n      <td>English</td>\n      <td>95.0</td>\n      <td>120000000.0</td>\n      <td>363300000.0</td>\n      <td>...</td>\n      <td>$363.3 million</td>\n      <td>['John Lasseter', 'Andrew Stanton', 'Joe Ranft']</td>\n      <td>NaN</td>\n      <td>Sharon Calahan</td>\n      <td>Lee Unkrich</td>\n      <td>['Andrew Stanton', 'Donald McEnery', 'Bob Shaw']</td>\n      <td>NaN</td>\n      <td>NaN</td>\n      <td>NaN</td>\n      <td>NaN</td>\n    </tr>\n    <tr>\n      <th>35</th>\n      <td>35</td>\n      <td>Perri</td>\n      <td>Walt Disney Productions</td>\n      <td>August 28, 1957</td>\n      <td>75 minutes</td>\n      <td>United States</td>\n      <td>English</td>\n      <td>75.0</td>\n      <td>NaN</td>\n      <td>1750000.0</td>\n      <td>...</td>\n      <td>$1.75 million (US rentals)</td>\n      <td>NaN</td>\n      <td>Winston Hibler</td>\n      <td>NaN</td>\n      <td>Jack Atwood</td>\n      <td>NaN</td>\n      <td>NaN</td>\n      <td>NaN</td>\n      <td>NaN</td>\n      <td>NaN</td>\n    </tr>\n    <tr>\n      <th>145</th>\n      <td>145</td>\n      <td>Herbie Goes Bananas</td>\n      <td>Walt Disney Productions</td>\n      <td>['June 27, 1980']</td>\n      <td>98 minutes</td>\n      <td>United States</td>\n      <td>English</td>\n      <td>98.0</td>\n      <td>NaN</td>\n      <td>18000000.0</td>\n      <td>...</td>\n      <td>$18 million</td>\n      <td>NaN</td>\n      <td>NaN</td>\n      <td>Frank V. Phillips</td>\n      <td>Gordon D. Brenner</td>\n      <td>NaN</td>\n      <td>NaN</td>\n      <td>NaN</td>\n      <td>NaN</td>\n      <td>NaN</td>\n    </tr>\n  </tbody>\n</table>\n<p>3 rows × 32 columns</p>\n</div>"
          },
          "metadata": {},
          "execution_count": 189
        }
      ]
    },
    {
      "cell_type": "code",
      "metadata": {
        "id": "7Q3fAIYSXKNY"
      },
      "source": [
        "from sklearn.linear_model import LinearRegression\n",
        "from sklearn.model_selection import train_test_split\n",
        "from sklearn.metrics import mean_squared_error"
      ],
      "execution_count": 190,
      "outputs": []
    },
    {
      "cell_type": "code",
      "execution_count": 191,
      "metadata": {},
      "outputs": [
        {
          "output_type": "execute_result",
          "data": {
            "text/plain": [
              "     imdb  metascore\n",
              "1     7.6       95.0\n",
              "2     7.4       99.0\n",
              "3     7.8       96.0\n",
              "5     7.2       96.0\n",
              "6     7.3       91.0\n",
              "..    ...        ...\n",
              "421   8.7       90.0\n",
              "422   5.4       84.0\n",
              "424   6.7       58.0\n",
              "425   7.6       71.0\n",
              "427   7.0       53.0\n",
              "\n",
              "[283 rows x 2 columns]"
            ],
            "text/html": "<div>\n<style scoped>\n    .dataframe tbody tr th:only-of-type {\n        vertical-align: middle;\n    }\n\n    .dataframe tbody tr th {\n        vertical-align: top;\n    }\n\n    .dataframe thead th {\n        text-align: right;\n    }\n</style>\n<table border=\"1\" class=\"dataframe\">\n  <thead>\n    <tr style=\"text-align: right;\">\n      <th></th>\n      <th>imdb</th>\n      <th>metascore</th>\n    </tr>\n  </thead>\n  <tbody>\n    <tr>\n      <th>1</th>\n      <td>7.6</td>\n      <td>95.0</td>\n    </tr>\n    <tr>\n      <th>2</th>\n      <td>7.4</td>\n      <td>99.0</td>\n    </tr>\n    <tr>\n      <th>3</th>\n      <td>7.8</td>\n      <td>96.0</td>\n    </tr>\n    <tr>\n      <th>5</th>\n      <td>7.2</td>\n      <td>96.0</td>\n    </tr>\n    <tr>\n      <th>6</th>\n      <td>7.3</td>\n      <td>91.0</td>\n    </tr>\n    <tr>\n      <th>...</th>\n      <td>...</td>\n      <td>...</td>\n    </tr>\n    <tr>\n      <th>421</th>\n      <td>8.7</td>\n      <td>90.0</td>\n    </tr>\n    <tr>\n      <th>422</th>\n      <td>5.4</td>\n      <td>84.0</td>\n    </tr>\n    <tr>\n      <th>424</th>\n      <td>6.7</td>\n      <td>58.0</td>\n    </tr>\n    <tr>\n      <th>425</th>\n      <td>7.6</td>\n      <td>71.0</td>\n    </tr>\n    <tr>\n      <th>427</th>\n      <td>7.0</td>\n      <td>53.0</td>\n    </tr>\n  </tbody>\n</table>\n<p>283 rows × 2 columns</p>\n</div>"
          },
          "metadata": {},
          "execution_count": 191
        }
      ],
      "source": [
        "x_features = [\"metascore\"]\n",
        "# , \"metascore\"\n",
        "# .split(\"\\t\")\n",
        "y_feature = 'imdbyy'"
      ]
    },
    {
      "cell_type": "code",
      "execution_count": 192,
      "metadata": {},
      "outputs": [],
      "source": [
        "df = df.drop(columns=[\"Unnamed: 0\",\t\"title\", \"Production company\", \"Release date\", \"Running time\", \"Country\",\t\"Language\",\t\"Running time\",\t\"Budget\", \"Box office\", \"Story by\", \"Narrated by\", \"Cinematography\", \"Edited by\", \"Screenplay by\", \"Production companies\", \"Adaptation by\", \"Traditional\", \"Simplified\", \"rotten_tomatoes\", \"Release date (datetime)\", \"Directed by\", \"Produced by\", \"Written by\", \"Based on\",\"Starring\", \"Music by\", \"Distributed by\", \"Running time (int)\", \"Budget (float)\", \"Box office (float)\"])\n",
        "df = df.dropna()\n",
        "df"
      ]
    },
    {
      "cell_type": "code",
      "metadata": {
        "id": "132mfuTJ0ciU"
      },
      "source": [
        "X_train, X_test, y_train, y_test = train_test_split(df[x_features]to_numpy(), df.[y_feature]to_numpy(), train_size = 0.77"
      ],
      "execution_count": 193,
      "outputs": []
    },
    {
      "cell_type": "code",
      "metadata": {
        "colab": {
          "base_uri": "https://localhost:8080/"
        },
        "id": "DkVCUEpV08ve",
        "outputId": "5c1e1b1e-a0e2-412c-c30f-9a102f4b6698"
      },
      "source": [
        "reg = LinearRegression().fit(X_train, y_train)\n",
        "reg.score(X_train, y_train) # коэффициент детерминации\n",
        "#Для линейной зависимости коэффициент детерминации равен квадрату коэффициента \n",
        "#корреляции rxy: R2 = rxy2 . Например, значение R2 = 0.28, означает, что в 28% \n",
        "#случаев изменения х приводят к изменению y . Другими словами, точность подбора уравнения регрессии - ниже средней."
      ],
      "execution_count": 194,
      "outputs": [
        {
          "output_type": "execute_result",
          "data": {
            "text/plain": [
              "0.5256885008895644"
            ]
          },
          "metadata": {},
          "execution_count": 194
        }
      ]
    },
    {
      "cell_type": "code",
      "metadata": {
        "colab": {
          "base_uri": "https://localhost:8080/"
        },
        "id": "MUc6OEdi1HPj",
        "outputId": "ed0e7aee-8868-4941-835a-ef007e504001"
      },
      "source": [
        "reg.score(X_test, reg.predict(X_test))"
      ],
      "execution_count": 185,
      "outputs": [
        {
          "output_type": "execute_result",
          "data": {
            "text/plain": [
              "1.0"
            ]
          },
          "metadata": {},
          "execution_count": 185
        }
      ]
    },
    {
      "cell_type": "code",
      "metadata": {
        "colab": {
          "base_uri": "https://localhost:8080/"
        },
        "id": "lFbRIUaQ8NUf",
        "outputId": "513561dc-47ca-4d50-dfab-e6441d6d5cfd"
      },
      "source": [
        "mean_squared_error(y_test, reg.predict(X_test), squared=False) # MSE"
      ],
      "execution_count": 186,
      "outputs": [
        {
          "output_type": "execute_result",
          "data": {
            "text/plain": [
              "0.8204144379772021"
            ]
          },
          "metadata": {},
          "execution_count": 186
        }
      ]
    },
    {
      "cell_type": "code",
      "metadata": {
        "colab": {
          "base_uri": "https://localhost:8080/",
          "height": 129
        },
        "id": "njDMwOAA8QdG",
        "outputId": "649c08ed-505d-4452-c938-7198919354e4"
      },
      "source": [
        "pd.DataFrame.from_records(data=[list(y_test), list(reg.predict(X_test))])"
      ],
      "execution_count": 187,
      "outputs": [
        {
          "output_type": "execute_result",
          "data": {
            "text/plain": [
              "        0         1         2         3         4         5         6   \\\n",
              "0  7.20000  8.300000  6.400000  6.800000  8.000000  6.300000  6.900000   \n",
              "1  6.40078  8.012748  7.690354  6.446836  8.150917  6.216555  7.874579   \n",
              "\n",
              "         7         8         9   ...        75        76       77       78  \\\n",
              "0  7.300000  7.000000  5.100000  ...  7.600000  6.600000  7.50000  7.20000   \n",
              "1  6.538949  6.538949  5.663881  ...  7.828523  6.815286  6.76923  7.13768   \n",
              "\n",
              "         79        80        81        82        83        84  \n",
              "0  5.300000  5.900000  7.800000  7.000000  7.800000  5.900000  \n",
              "1  5.479656  6.953455  7.229792  6.216555  7.367961  5.848105  \n",
              "\n",
              "[2 rows x 85 columns]"
            ],
            "text/html": "<div>\n<style scoped>\n    .dataframe tbody tr th:only-of-type {\n        vertical-align: middle;\n    }\n\n    .dataframe tbody tr th {\n        vertical-align: top;\n    }\n\n    .dataframe thead th {\n        text-align: right;\n    }\n</style>\n<table border=\"1\" class=\"dataframe\">\n  <thead>\n    <tr style=\"text-align: right;\">\n      <th></th>\n      <th>0</th>\n      <th>1</th>\n      <th>2</th>\n      <th>3</th>\n      <th>4</th>\n      <th>5</th>\n      <th>6</th>\n      <th>7</th>\n      <th>8</th>\n      <th>9</th>\n      <th>...</th>\n      <th>75</th>\n      <th>76</th>\n      <th>77</th>\n      <th>78</th>\n      <th>79</th>\n      <th>80</th>\n      <th>81</th>\n      <th>82</th>\n      <th>83</th>\n      <th>84</th>\n    </tr>\n  </thead>\n  <tbody>\n    <tr>\n      <th>0</th>\n      <td>7.20000</td>\n      <td>8.300000</td>\n      <td>6.400000</td>\n      <td>6.800000</td>\n      <td>8.000000</td>\n      <td>6.300000</td>\n      <td>6.900000</td>\n      <td>7.300000</td>\n      <td>7.000000</td>\n      <td>5.100000</td>\n      <td>...</td>\n      <td>7.600000</td>\n      <td>6.600000</td>\n      <td>7.50000</td>\n      <td>7.20000</td>\n      <td>5.300000</td>\n      <td>5.900000</td>\n      <td>7.800000</td>\n      <td>7.000000</td>\n      <td>7.800000</td>\n      <td>5.900000</td>\n    </tr>\n    <tr>\n      <th>1</th>\n      <td>6.40078</td>\n      <td>8.012748</td>\n      <td>7.690354</td>\n      <td>6.446836</td>\n      <td>8.150917</td>\n      <td>6.216555</td>\n      <td>7.874579</td>\n      <td>6.538949</td>\n      <td>6.538949</td>\n      <td>5.663881</td>\n      <td>...</td>\n      <td>7.828523</td>\n      <td>6.815286</td>\n      <td>6.76923</td>\n      <td>7.13768</td>\n      <td>5.479656</td>\n      <td>6.953455</td>\n      <td>7.229792</td>\n      <td>6.216555</td>\n      <td>7.367961</td>\n      <td>5.848105</td>\n    </tr>\n  </tbody>\n</table>\n<p>2 rows × 85 columns</p>\n</div>"
          },
          "metadata": {},
          "execution_count": 187
        }
      ]
    },
    {
      "cell_type": "code",
      "metadata": {
        "id": "lrGsiJnT8yau"
      },
      "source": [],
      "execution_count": null,
      "outputs": []
    }
  ]
}